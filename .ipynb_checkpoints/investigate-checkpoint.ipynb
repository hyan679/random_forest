{
 "cells": [
  {
   "cell_type": "markdown",
   "id": "391bb9d0",
   "metadata": {},
   "source": [
    "## 0 Prepare Environment"
   ]
  },
  {
   "cell_type": "code",
   "execution_count": 1,
   "id": "80ceb922",
   "metadata": {
    "scrolled": false
   },
   "outputs": [
    {
     "name": "stdout",
     "output_type": "stream",
     "text": [
      "Defaulting to user installation because normal site-packages is not writeable\n",
      "Requirement already satisfied: pip in /home/ec2-user/.local/lib/python3.9/site-packages (23.0.1)\n",
      "Defaulting to user installation because normal site-packages is not writeable\n",
      "Requirement already satisfied: h5py in /home/ec2-user/.local/lib/python3.9/site-packages (3.8.0)\n",
      "Requirement already satisfied: numpy in /home/ec2-user/.local/lib/python3.9/site-packages (1.24.2)\n",
      "Requirement already satisfied: scikit-learn in /home/ec2-user/.local/lib/python3.9/site-packages (1.2.2)\n",
      "Requirement already satisfied: matplotlib in /home/ec2-user/.local/lib/python3.9/site-packages (3.7.1)\n",
      "Requirement already satisfied: joblib>=1.1.1 in /home/ec2-user/.local/lib/python3.9/site-packages (from scikit-learn) (1.2.0)\n",
      "Requirement already satisfied: scipy>=1.3.2 in /home/ec2-user/.local/lib/python3.9/site-packages (from scikit-learn) (1.10.1)\n",
      "Requirement already satisfied: threadpoolctl>=2.0.0 in /home/ec2-user/.local/lib/python3.9/site-packages (from scikit-learn) (3.1.0)\n",
      "Requirement already satisfied: cycler>=0.10 in /home/ec2-user/.local/lib/python3.9/site-packages (from matplotlib) (0.11.0)\n",
      "Requirement already satisfied: contourpy>=1.0.1 in /home/ec2-user/.local/lib/python3.9/site-packages (from matplotlib) (1.0.7)\n",
      "Requirement already satisfied: fonttools>=4.22.0 in /home/ec2-user/.local/lib/python3.9/site-packages (from matplotlib) (4.39.3)\n",
      "Requirement already satisfied: importlib-resources>=3.2.0 in /home/ec2-user/.local/lib/python3.9/site-packages (from matplotlib) (5.12.0)\n",
      "Requirement already satisfied: pillow>=6.2.0 in /home/ec2-user/.local/lib/python3.9/site-packages (from matplotlib) (9.4.0)\n",
      "Requirement already satisfied: python-dateutil>=2.7 in /home/ec2-user/.local/lib/python3.9/site-packages (from matplotlib) (2.8.2)\n",
      "Requirement already satisfied: pyparsing>=2.3.1 in /home/ec2-user/.local/lib/python3.9/site-packages (from matplotlib) (3.0.9)\n",
      "Requirement already satisfied: packaging>=20.0 in /home/ec2-user/.local/lib/python3.9/site-packages (from matplotlib) (23.0)\n",
      "Requirement already satisfied: kiwisolver>=1.0.1 in /home/ec2-user/.local/lib/python3.9/site-packages (from matplotlib) (1.4.4)\n",
      "Requirement already satisfied: zipp>=3.1.0 in /home/ec2-user/.local/lib/python3.9/site-packages (from importlib-resources>=3.2.0->matplotlib) (3.15.0)\n",
      "Requirement already satisfied: six>=1.5 in /usr/lib/python3.9/site-packages (from python-dateutil>=2.7->matplotlib) (1.15.0)\n"
     ]
    }
   ],
   "source": [
    "!pip install -U pip\n",
    "!pip install -U h5py numpy scikit-learn matplotlib"
   ]
  },
  {
   "cell_type": "markdown",
   "id": "2ba8802a",
   "metadata": {},
   "source": [
    "## 1 Load Data"
   ]
  },
  {
   "cell_type": "code",
   "execution_count": 2,
   "id": "47f3756b",
   "metadata": {},
   "outputs": [],
   "source": [
    "import h5py\n",
    "import numpy as np\n",
    "with h5py.File('./data/train/images_training.h5', 'r') as H:\n",
    "    data_train = np.copy(H['datatrain'])\n",
    "with h5py.File('./data/train/labels_training.h5', 'r') as H:\n",
    "    label_train = np.copy(H['labeltrain'])\n",
    "with h5py.File('./data/test/images_testing.h5', 'r') as H:\n",
    "    data_test = np.copy(H['datatest'])\n",
    "with h5py.File('./data/test/labels_testing_2000.h5', 'r') as H:\n",
    "    label_test = np.copy(H['labeltest'])"
   ]
  },
  {
   "cell_type": "markdown",
   "id": "e6b6fe82",
   "metadata": {},
   "source": [
    "### 1.1 Data Summary"
   ]
  },
  {
   "cell_type": "markdown",
   "id": "1fb75c24",
   "metadata": {},
   "source": [
    "#### 1.1.1 Training Set"
   ]
  },
  {
   "cell_type": "code",
   "execution_count": 3,
   "id": "121b7601",
   "metadata": {},
   "outputs": [
    {
     "name": "stdout",
     "output_type": "stream",
     "text": [
      "data summary of train data\n",
      "  data type:  <class 'numpy.ndarray'>\n",
      "  data shape: (30000, 784)\n",
      "  sample data:\n",
      " [[0. 0. 0. ... 0. 0. 0.]\n",
      " [0. 0. 0. ... 0. 0. 0.]\n",
      " [0. 0. 0. ... 0. 0. 0.]]\n",
      "==================================\n",
      "data summary of label data\n",
      "  data type:  <class 'numpy.ndarray'>\n",
      "  data shape: (30000,)\n",
      "  sample data:\n",
      " [0 3 7]\n"
     ]
    }
   ],
   "source": [
    "print('data summary of train data')\n",
    "print('  data type: ', type(data_train))\n",
    "print('  data shape:', data_train.shape)\n",
    "print('  sample data:\\n', data_train[:3,:])\n",
    "print('==================================')\n",
    "print('data summary of label data')\n",
    "print('  data type: ', type(label_train))\n",
    "print('  data shape:', label_train.shape)\n",
    "print('  sample data:\\n', label_train[:3])"
   ]
  },
  {
   "cell_type": "markdown",
   "id": "1ccdb543",
   "metadata": {},
   "source": [
    "#### 1.1.2 Test Data"
   ]
  },
  {
   "cell_type": "code",
   "execution_count": 4,
   "id": "28ba26be",
   "metadata": {},
   "outputs": [
    {
     "name": "stdout",
     "output_type": "stream",
     "text": [
      "data summary of test data\n",
      "  data type:  <class 'numpy.ndarray'>\n",
      "  data shape: (10000, 784)\n",
      "  sample data:\n",
      " [[0. 0. 0. ... 0. 0. 0.]\n",
      " [0. 0. 0. ... 0. 0. 0.]\n",
      " [0. 0. 0. ... 0. 0. 0.]]\n",
      "================================\n",
      "data summary of test label\n",
      "  data type:  <class 'numpy.ndarray'>\n",
      "  data shape: (2000,)\n",
      "  sample data:\n",
      " [1 0 9]\n"
     ]
    }
   ],
   "source": [
    "print('data summary of test data')\n",
    "print('  data type: ', type(data_test))\n",
    "print('  data shape:', data_test.shape)\n",
    "print('  sample data:\\n', data_test[:3])\n",
    "print('================================')\n",
    "print('data summary of test label')\n",
    "print('  data type: ', type(label_test))\n",
    "print('  data shape:', label_test.shape)\n",
    "print('  sample data:\\n', label_test[:3])"
   ]
  },
  {
   "cell_type": "markdown",
   "id": "46d0987c",
   "metadata": {},
   "source": [
    "# 2 Data Pre-processing （Feature Engineering）"
   ]
  },
  {
   "cell_type": "markdown",
   "id": "80457e8a",
   "metadata": {},
   "source": [
    "## 2.1 Keep Top 2000 Rows of Test Data"
   ]
  },
  {
   "cell_type": "code",
   "execution_count": 5,
   "id": "ef043951",
   "metadata": {},
   "outputs": [],
   "source": [
    "data_test = data_test[:2000]"
   ]
  },
  {
   "cell_type": "markdown",
   "id": "129724e9",
   "metadata": {},
   "source": [
    "## 2.2 Detect Missing Value"
   ]
  },
  {
   "cell_type": "code",
   "execution_count": 6,
   "id": "d4d57fcd",
   "metadata": {},
   "outputs": [
    {
     "name": "stdout",
     "output_type": "stream",
     "text": [
      "There are 0 elements in data_train whose value is NAN\n",
      "There are 0 elements in label_train whose value is NAN\n",
      "There are 0 elements in data_test whose value is NAN\n",
      "There are 0 elements in label_test whose value is NAN\n"
     ]
    }
   ],
   "source": [
    "print('There are', sum(sum(np.isnan(data_train))) ,'elements in data_train whose value is NAN')\n",
    "print('There are', sum(np.isnan(label_train)) ,'elements in label_train whose value is NAN')\n",
    "print('There are', sum(sum(np.isnan(data_test))) ,'elements in data_test whose value is NAN')\n",
    "print('There are', sum(np.isnan(label_test)) ,'elements in label_test whose value is NAN')"
   ]
  },
  {
   "cell_type": "markdown",
   "id": "57c3b535",
   "metadata": {},
   "source": [
    "## 2.3 Detect outliers"
   ]
  },
  {
   "cell_type": "code",
   "execution_count": 7,
   "id": "a736a898",
   "metadata": {},
   "outputs": [
    {
     "name": "stdout",
     "output_type": "stream",
     "text": [
      "There are 0 elements in data_train whose value is not between 0 and 1\n",
      "There are 0 elements in data_train whose value is not between 0 and 9\n",
      "There are 0 elements in data_train whose value is not between 0 and 1\n",
      "There are 0 elements in data_train whose value is not between 0 and 9\n"
     ]
    }
   ],
   "source": [
    "print('There are', sum(sum((data_train>1) + (data_train<0))) ,'elements in data_train whose value is not between 0 and 1')\n",
    "print('There are', sum((label_train>9) + (label_train<0)) ,'elements in data_train whose value is not between 0 and 9')\n",
    "print('There are', sum(sum((data_test>1) + (data_test<0))) ,'elements in data_train whose value is not between 0 and 1')\n",
    "print('There are', sum((label_test>9) + (label_test<0)) ,'elements in data_train whose value is not between 0 and 9')"
   ]
  },
  {
   "cell_type": "markdown",
   "id": "9bb35e7e",
   "metadata": {},
   "source": [
    "## 2.4 Scaling （standardization）"
   ]
  },
  {
   "cell_type": "code",
   "execution_count": 8,
   "id": "0a2357a5",
   "metadata": {},
   "outputs": [],
   "source": [
    "from sklearn.preprocessing import StandardScaler\n",
    "scaler = StandardScaler()\n",
    "data_train_s = scaler.fit_transform(data_train)\n",
    "data_test_s = scaler.transform(data_test)"
   ]
  },
  {
   "cell_type": "markdown",
   "id": "6852ada2",
   "metadata": {},
   "source": [
    "## 2.5 Decomposition"
   ]
  },
  {
   "cell_type": "code",
   "execution_count": 9,
   "id": "60261e0b",
   "metadata": {},
   "outputs": [
    {
     "data": {
      "image/png": "[encoded data removed]",
      "text/plain": [
       "<Figure size 640x480 with 1 Axes>"
      ]
     },
     "metadata": {},
     "output_type": "display_data"
    }
   ],
   "source": [
    "from sklearn.decomposition import PCA\n",
    "from matplotlib import pyplot as plt\n",
    "pca = PCA()\n",
    "data_train_p = pca.fit(data_train_s)\n",
    "value = pca.explained_variance_ratio_ \n",
    "plt.plot(value)\n",
    "plt.show()"
   ]
  },
  {
   "cell_type": "code",
   "execution_count": 10,
   "id": "89c9d4e5",
   "metadata": {},
   "outputs": [
    {
     "name": "stdout",
     "output_type": "stream",
     "text": [
      "After dimensionality reduction, the data changed from 784 columns to 254 columns\n"
     ]
    }
   ],
   "source": [
    "from sklearn.decomposition import PCA\n",
    "pca = PCA(n_components=0.95)\n",
    "data_train_p = pca.fit_transform(data_train_s)\n",
    "data_test_p = pca.transform(data_test_s)\n",
    "print('After dimensionality reduction, the data changed from 784 columns to', pca.n_components_,'columns')"
   ]
  },
  {
   "cell_type": "markdown",
   "id": "213db9b0",
   "metadata": {},
   "source": [
    "# 3 Algorithm selection"
   ]
  },
  {
   "cell_type": "markdown",
   "id": "d94fb6d6",
   "metadata": {},
   "source": [
    "## 3.1 Logistic Regression"
   ]
  },
  {
   "cell_type": "code",
   "execution_count": 11,
   "id": "79b2d74a",
   "metadata": {},
   "outputs": [
    {
     "name": "stdout",
     "output_type": "stream",
     "text": [
      "accuracy:  0.833\n"
     ]
    },
    {
     "name": "stderr",
     "output_type": "stream",
     "text": [
      "/home/ec2-user/.local/lib/python3.9/site-packages/sklearn/linear_model/_logistic.py:458: ConvergenceWarning: lbfgs failed to converge (status=1):\n",
      "STOP: TOTAL NO. of ITERATIONS REACHED LIMIT.\n",
      "\n",
      "Increase the number of iterations (max_iter) or scale the data as shown in:\n",
      "    https://scikit-learn.org/stable/modules/preprocessing.html\n",
      "Please also refer to the documentation for alternative solver options:\n",
      "    https://scikit-learn.org/stable/modules/linear_model.html#logistic-regression\n",
      "  n_iter_i = _check_optimize_result(\n"
     ]
    }
   ],
   "source": [
    "from sklearn.linear_model import LogisticRegression\n",
    "lr = LogisticRegression(random_state=0)\n",
    "lr.fit(data_train_p, label_train)\n",
    "predict = lr.predict(data_test_p)\n",
    "print('accuracy: ', sum(predict == label_test)/label_test.shape[0])"
   ]
  },
  {
   "cell_type": "markdown",
   "id": "cf130e4d",
   "metadata": {},
   "source": [
    "## 3.2 K-nearest Neighbors"
   ]
  },
  {
   "cell_type": "code",
   "execution_count": 12,
   "id": "93361a6b",
   "metadata": {},
   "outputs": [
    {
     "name": "stdout",
     "output_type": "stream",
     "text": [
      "Accuracy:  0.8485\n"
     ]
    }
   ],
   "source": [
    "from sklearn.neighbors import KNeighborsClassifier\n",
    "knn = KNeighborsClassifier()\n",
    "knn.fit(data_train_p, label_train)\n",
    "predict = knn.predict(data_test_p)\n",
    "print('Accuracy: ', sum(predict == label_test)/label_test.shape[0])"
   ]
  },
  {
   "cell_type": "markdown",
   "id": "216ecdeb",
   "metadata": {},
   "source": [
    "## 3.3 Decision Tree"
   ]
  },
  {
   "cell_type": "code",
   "execution_count": 13,
   "id": "039590ca",
   "metadata": {},
   "outputs": [
    {
     "name": "stdout",
     "output_type": "stream",
     "text": [
      "Accuracy:  0.7325\n"
     ]
    }
   ],
   "source": [
    "from sklearn.tree import DecisionTreeClassifier\n",
    "dt = DecisionTreeClassifier()\n",
    "dt.fit(data_train_p, label_train)\n",
    "predict = dt.predict(data_test_p)\n",
    "print('Accuracy: ', sum(predict == label_test)/label_test.shape[0])"
   ]
  },
  {
   "cell_type": "markdown",
   "id": "c74c8146",
   "metadata": {},
   "source": [
    "### 3.4 Random Forest"
   ]
  },
  {
   "cell_type": "code",
   "execution_count": 14,
   "id": "402a1832",
   "metadata": {},
   "outputs": [
    {
     "name": "stdout",
     "output_type": "stream",
     "text": [
      "Accuracy:  0.795\n"
     ]
    }
   ],
   "source": [
    "from sklearn.ensemble import RandomForestClassifier\n",
    "rf = RandomForestClassifier(n_estimators=10)\n",
    "rf.fit(data_train_p, label_train)\n",
    "predict = rf.predict(data_test_p)\n",
    "print('Accuracy: ', sum(predict == label_test)/label_test.shape[0])"
   ]
  }
 ],
 "metadata": {
  "kernelspec": {
   "display_name": "Python 3 (ipykernel)",
   "language": "python",
   "name": "python3"
  },
  "language_info": {
   "codemirror_mode": {
    "name": "ipython",
    "version": 3
   },
   "file_extension": ".py",
   "mimetype": "text/x-python",
   "name": "python",
   "nbconvert_exporter": "python",
   "pygments_lexer": "ipython3",
   "version": "3.9.16"
  }
 },
 "nbformat": 4,
 "nbformat_minor": 5
}
